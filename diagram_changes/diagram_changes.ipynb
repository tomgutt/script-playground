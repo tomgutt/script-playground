{
 "cells": [
  {
   "cell_type": "markdown",
   "metadata": {},
   "source": [
    "# Diagram Changes\n",
    "\n",
    "\n"
   ]
  },
  {
   "cell_type": "markdown",
   "metadata": {},
   "source": [
    "This notebook demonstrates how to detect and visualize changes between two LeanIX draw.io XML diagrams.\n",
    "\n",
    "### Overview\n",
    "\n",
    "1. **Detect Changes**: Analyzes differences between original and modified diagrams, saving the results in a technical format to `diagram_changes.json`\n",
    "\n",
    "2. **Print Changelog**: Generates a human-readable changelog showing all modifications\n",
    "\n",
    "3. **Generate Diagrams**: Creates three different diagrams, offering different views of the changes:\n",
    "   - Additions diagram showing new elements\n",
    "   - Removals diagram showing deleted elements\n",
    "   - Combined diagram showing all changes together\n",
    "\n",
    "**Color Coding**:\n",
    "- Green: New elements\n",
    "- Yellow: Modified elements\n",
    "- Red: Deleted elements\n",
    "- Pink: Replaced elements\n",
    "\n",
    "4. **Render Images of Diagrams**: Converts the generated XML diagrams into PNG images for easy viewing. This step requires draw.io to be installed locally. You can download it from [here](https://github.com/jgraph/drawio-desktop/releases/download/v26.0.9/draw.io-arm64-26.0.9.dmg).\n",
    "\n",
    "All generated files are saved in the `files/generated_diagrams/` directory.\n",
    "\n",
    "\n",
    "---------------------------------------------------------------------------------------------------------------------------\n",
    "\n",
    "**⚠️ NOTE:** For this script, a python version >= 3.6 is recommended. It was tested with python 3.11.8.\n",
    "\n",
    "---------------------------------------------------------------------------------------------------------------------------"
   ]
  },
  {
   "cell_type": "markdown",
   "metadata": {},
   "source": [
    "### Execution Steps\n",
    "\n",
    "**1. Save the XML of the original diagram** [Original Diagram](files/input/original.xml)\n",
    "\n",
    "**2. Save the XML of the changed diagram** [Changed Diagram](files/input/changed.xml)\n"
   ]
  },
  {
   "cell_type": "markdown",
   "metadata": {},
   "source": [
    "**3. Run the script to detect the changes**"
   ]
  },
  {
   "cell_type": "code",
   "execution_count": 12,
   "metadata": {},
   "outputs": [],
   "source": [
    "!python scripts/detect_changes.py"
   ]
  },
  {
   "cell_type": "markdown",
   "metadata": {},
   "source": [
    "**4. Optionally, inspect the raw changes as JSON:** [Changes](files/diagram_changes.json)"
   ]
  },
  {
   "cell_type": "markdown",
   "metadata": {},
   "source": [
    "**5. Have the changes printed out as a changelog**"
   ]
  },
  {
   "cell_type": "code",
   "execution_count": null,
   "metadata": {},
   "outputs": [],
   "source": [
    "!python scripts/print_changes.py"
   ]
  },
  {
   "cell_type": "markdown",
   "metadata": {},
   "source": [
    "**6. Generate diagrams that show the changes**"
   ]
  },
  {
   "cell_type": "code",
   "execution_count": 17,
   "metadata": {},
   "outputs": [],
   "source": [
    "!python scripts/generate_new_diagrams.py"
   ]
  },
  {
   "cell_type": "markdown",
   "metadata": {},
   "source": [
    "**7. Inspect/copy the generated diagrams as XML:**\n",
    "   1. [Diagram showing what has been added](files/generated_diagrams/additions_diagram.xml)\n",
    "   2. [Diagram showing what has been removed](files/generated_diagrams/removals_diagram.xml)\n",
    "   3. [Diagram showing all the changes](files/generated_diagrams/combined_diagram.xml)\n"
   ]
  },
  {
   "cell_type": "markdown",
   "metadata": {},
   "source": [
    "**⚠️ NOTE:** For the following steps, draw.io must be installed locally to render diagrams. You can download it [here](https://github.com/jgraph/drawio-desktop/releases/download/v26.0.9/draw.io-arm64-26.0.9.dmg)."
   ]
  },
  {
   "cell_type": "markdown",
   "metadata": {},
   "source": [
    "**8. Render the diagram that shows what has been added**"
   ]
  },
  {
   "cell_type": "code",
   "execution_count": null,
   "metadata": {},
   "outputs": [],
   "source": [
    "!python scripts/render_diagram.py files/generated_diagrams/additions_diagram.xml files/rendered_diagrams/additions_diagram.png --format png\n",
    "from IPython.display import Image\n",
    "display(Image('files/rendered_diagrams/additions_diagram.png'))"
   ]
  },
  {
   "cell_type": "markdown",
   "metadata": {},
   "source": [
    "**9. Render the diagram that shows what has been removed**"
   ]
  },
  {
   "cell_type": "code",
   "execution_count": null,
   "metadata": {},
   "outputs": [],
   "source": [
    "!python scripts/render_diagram.py files/generated_diagrams/removals_diagram.xml files/rendered_diagrams/removals_diagram.png --format png\n",
    "from IPython.display import Image\n",
    "display(Image('files/rendered_diagrams/removals_diagram.png'))"
   ]
  },
  {
   "cell_type": "markdown",
   "metadata": {},
   "source": [
    "**10. Render the diagram that shows all the changes**"
   ]
  },
  {
   "cell_type": "code",
   "execution_count": null,
   "metadata": {},
   "outputs": [],
   "source": [
    "!python scripts/render_diagram.py files/generated_diagrams/combined_diagram.xml files/rendered_diagrams/combined_diagram.png --format png\n",
    "from IPython.display import Image\n",
    "display(Image('files/rendered_diagrams/combined_diagram.png'))"
   ]
  }
 ],
 "metadata": {
  "kernelspec": {
   "display_name": "Python 3",
   "language": "python",
   "name": "python3"
  },
  "language_info": {
   "codemirror_mode": {
    "name": "ipython",
    "version": 3
   },
   "file_extension": ".py",
   "mimetype": "text/x-python",
   "name": "python",
   "nbconvert_exporter": "python",
   "pygments_lexer": "ipython3",
   "version": "3.11.8"
  }
 },
 "nbformat": 4,
 "nbformat_minor": 2
}
